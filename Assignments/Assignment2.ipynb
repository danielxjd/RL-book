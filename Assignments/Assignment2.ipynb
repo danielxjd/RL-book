{
 "cells": [
  {
   "cell_type": "markdown",
   "metadata": {},
   "source": [
    "## CME241 Assignment 2"
   ]
  },
  {
   "cell_type": "markdown",
   "metadata": {},
   "source": [
    "###  Model the game of Snake and Ladders with FiniteMarkovProcess class.\n",
    "What is the state space and structure of transition probability?"
   ]
  },
  {
   "cell_type": "markdown",
   "metadata": {},
   "source": [
    "Using the standard board provided,I consider the whole board with position 0 to 99 as the possible state space. So the state space $S=\\{1,....100\\}$. Out of all the state, 1 is the starting state and 100 is the terminating state as if a player reaches 100, the game ends. The transition probability from $S_t$ to $S_t+1,S_t+2...,S_t+6$ is 1/6 without considering the ladders and snakes. The end probability might be different since the player cannot go beyond 100. With ladder or snake which will lead player from $a$ to $b$. All the transition probality from $c$ to $a$ is now the tranisition probability from $c$ to $b$ and the transition probability to $a$ will be zero."
   ]
  },
  {
   "cell_type": "code",
   "execution_count": 82,
   "metadata": {},
   "outputs": [],
   "source": [
    "from dataclasses import dataclass\n",
    "from typing import Mapping, Dict\n",
    "from rl.distribution import Categorical, Constant\n",
    "from rl.markov_process import Transition, FiniteMarkovProcess\n",
    "from scipy.stats import poisson\n",
    "import numpy as np"
   ]
  },
  {
   "cell_type": "code",
   "execution_count": 83,
   "metadata": {},
   "outputs": [],
   "source": [
    "@dataclass(frozen=True)\n",
    "class SnakeState:\n",
    "    position: int\n",
    "        \n",
    "## Snake Finite inheritates from FiniteMarkovProcess class\n",
    "class SnakeFinite(FiniteMarkovProcess[SnakeState]):\n",
    "    def __init__(\n",
    "        self,\n",
    "        board_size: int,\n",
    "        ladders\n",
    "    ):\n",
    "        self.board_size: int = board_size\n",
    "        self.ladders=ladders\n",
    "        self.transition_matrix=self.get_matrix()\n",
    "        super().__init__(self.get_transition_map())\n",
    "        \n",
    "    ##this function generate a transition matrix given the size of the board\n",
    "    def get_matrix(self):\n",
    "        mat=np.zeros((self.board_size,self.board_size))\n",
    "        for i in range(self.board_size-1):\n",
    "            for j in range(i+1,i+7):\n",
    "                mat[i][min(j,self.board_size-1)]+=1/6\n",
    "        for ladder in self.ladders:\n",
    "            for i in range(board_size):\n",
    "                for j in range(board_size):\n",
    "                    if(j==ladder[0] and mat[i][j]>0):\n",
    "                        mat[i][ladder[1]]+=mat[i][j]\n",
    "                        mat[i][j]==0\n",
    "        return mat\n",
    "    \n",
    "    def get_transition_map(self) -> Transition[SnakeState]:\n",
    "        d: Dict[SnakeState, Categorical[SnakeState]] = {}\n",
    "        for alpha in range(self.board_size-1):\n",
    "            state = SnakeState(alpha)\n",
    "            state_probs_map: Mapping[SnakeState, float] = {\n",
    "                SnakeState(i):self.transition_matrix[alpha][i]\n",
    "                for i in range(self.board_size)\n",
    "                }\n",
    "            d[SnakeState(alpha)] = Categorical(state_probs_map)\n",
    "        ## position 99 is considered as the terminal state\n",
    "        d[SnakeState(self.board_size-1)]=None\n",
    "        return d"
   ]
  },
  {
   "cell_type": "markdown",
   "metadata": {},
   "source": [
    "Create a sample board and run simulation of 10000 times and plot out the number of round needed to finish the game."
   ]
  },
  {
   "cell_type": "code",
   "execution_count": 84,
   "metadata": {},
   "outputs": [
    {
     "data": {
      "image/png": "[encoded data removed]",
      "text/plain": [
       "<Figure size 432x288 with 1 Axes>"
      ]
     },
     "metadata": {
      "needs_background": "light"
     },
     "output_type": "display_data"
    }
   ],
   "source": [
    "import matplotlib.pyplot as plt\n",
    "if __name__ == '__main__':\n",
    "    board_size=100\n",
    "    ladder=np.array([[2,38],[6,47],[11,50],[19,40],[24,56],[27,34],[30,5],\n",
    "                     [37,0],[44,73],[48,7],[52,16],[59,84],[64,13],[66,89],\n",
    "                     [68,91],[69,33],[75,36],[76,82],[81,62],[87,49],[93,41],\n",
    "                     [97,53]])\n",
    "    snake_mp = SnakeFinite(board_size=board_size,ladders=ladder\n",
    "    )\n",
    "    simulation=10000\n",
    "    counts=[]\n",
    "    round=0\n",
    "    for i in snake_mp.traces(Constant(SnakeState(0))):\n",
    "            count=0\n",
    "            for j in i:\n",
    "                count+=1\n",
    "            counts.append(count)\n",
    "            round+=1\n",
    "            if round>=simulation:\n",
    "                break\n",
    "    plt.hist(x=counts, bins='auto',rwidth=0.85)"
   ]
  },
  {
   "cell_type": "code",
   "execution_count": 94,
   "metadata": {},
   "outputs": [
    {
     "data": {
      "text/plain": [
       "39.5957"
      ]
     },
     "execution_count": 94,
     "metadata": {},
     "output_type": "execute_result"
    }
   ],
   "source": [
    "np.mean(counts)"
   ]
  },
  {
   "cell_type": "markdown",
   "metadata": {},
   "source": [
    "#### Model the snake and ladder with FiniteMarkovRewardProcess class.\n",
    "\n",
    "The model should use 1 as the reward for each transition as each transition symbolize a dice roll and we want to sum up all the rewards at the end."
   ]
  },
  {
   "cell_type": "code",
   "execution_count": 85,
   "metadata": {},
   "outputs": [],
   "source": [
    "from rl.markov_process import FiniteMarkovRewardProcess\n",
    "from rl.markov_process import RewardTransition\n",
    "class SnakeReward(FiniteMarkovRewardProcess[SnakeState]):\n",
    "    def __init__(\n",
    "        self,\n",
    "        board_size: int,\n",
    "        ladders\n",
    "    ):\n",
    "        self.board_size: int = board_size\n",
    "        self.ladders=ladders\n",
    "        self.transition_matrix=self.get_matrix()\n",
    "        super().__init__(self.get_transition_reward_map())\n",
    "        ##this function generate a transition matrix given the size of the board\n",
    "    def get_matrix(self):\n",
    "        mat=np.zeros((self.board_size,self.board_size))\n",
    "        for i in range(self.board_size-1):\n",
    "            for j in range(i+1,i+7):\n",
    "                mat[i][min(j,self.board_size-1)]+=1/6\n",
    "        for ladder in self.ladders:\n",
    "            for i in range(board_size):\n",
    "                for j in range(board_size):\n",
    "                    if(j==ladder[0] and mat[i][j]>0):\n",
    "                        mat[i][ladder[1]]+=mat[i][j]\n",
    "                        mat[i][j]==0\n",
    "        return mat\n",
    "    def get_transition_reward_map(self) -> RewardTransition[SnakeState]:\n",
    "        d: Dict[SnakeState, Categorical[Tuple[SnakeState, float]]] = {}\n",
    "        for alpha in range(self.board_size-1):\n",
    "            state = SnakeState(alpha)\n",
    "            state_probs_map: Mapping[SnakeState, float] = {\n",
    "                (SnakeState(i),1):self.transition_matrix[alpha][i]\n",
    "                for i in range(self.board_size)\n",
    "                }\n",
    "            d[state] = Categorical(state_probs_map)\n",
    "        d[SnakeState(self.board_size-1)]=None\n",
    "        return d\n",
    "        "
   ]
  },
  {
   "cell_type": "markdown",
   "metadata": {},
   "source": [
    "Use the same board and we run the simulation 10000 times to get the mean of the rewards."
   ]
  },
  {
   "cell_type": "code",
   "execution_count": 86,
   "metadata": {},
   "outputs": [],
   "source": [
    "board_size=100\n",
    "ladder=np.array([[2,38],[6,47],[11,50],[19,40],[24,56],[27,34],[30,5],\n",
    "                     [37,0],[44,73],[48,7],[52,16],[59,84],[64,13],[66,89],\n",
    "                     [68,91],[69,33],[75,36],[76,82],[81,62],[87,49],[93,41],\n",
    "                     [97,53]])\n",
    "snake_mrp = SnakeReward(board_size=board_size,ladders=ladder)"
   ]
  },
  {
   "cell_type": "code",
   "execution_count": 87,
   "metadata": {},
   "outputs": [],
   "source": [
    "rewards=[]\n",
    "for i in snake_mrp.reward_traces(Constant(SnakeState(0))):\n",
    "    reward=0\n",
    "    for j in i:\n",
    "        reward+=j.reward\n",
    "    rewards.append(reward)\n",
    "    if(len(rewards)>=10000):\n",
    "        break"
   ]
  },
  {
   "cell_type": "code",
   "execution_count": 88,
   "metadata": {},
   "outputs": [
    {
     "data": {
      "text/plain": [
       "38.9765"
      ]
     },
     "execution_count": 88,
     "metadata": {},
     "output_type": "execute_result"
    }
   ],
   "source": [
    "np.mean(rewards)"
   ]
  },
  {
   "cell_type": "markdown",
   "metadata": {},
   "source": [
    "### Frog game"
   ]
  },
  {
   "cell_type": "markdown",
   "metadata": {},
   "source": [
    "Given a frog and a distance x, a frog can jump 1 to x steps and calculate the expected number of jumps."
   ]
  },
  {
   "cell_type": "markdown",
   "metadata": {},
   "source": [
    "We want to model it as a finite reward Markov process with the reward for each jump to be 1 and the total reward of the whole process is the number of jumps."
   ]
  },
  {
   "cell_type": "code",
   "execution_count": 89,
   "metadata": {},
   "outputs": [],
   "source": [
    "@dataclass(frozen=True)\n",
    "class FrogState:\n",
    "    position: int"
   ]
  },
  {
   "cell_type": "code",
   "execution_count": 90,
   "metadata": {},
   "outputs": [],
   "source": [
    "class FrogReward(FiniteMarkovRewardProcess[FrogState]):\n",
    "    def __init__(\n",
    "        self,\n",
    "        dist: int,\n",
    "    ):\n",
    "        self.dist: int = dist\n",
    "        self.transition_matrix=self.get_matrix()\n",
    "        super().__init__(self.get_transition_reward_map())\n",
    "        ##this function generate a transition matrix given the size of the board\n",
    "    def get_matrix(self):\n",
    "        mat=np.zeros((self.dist,self.dist))\n",
    "        for i in range(self.dist-1):\n",
    "            for j in range(i+1,self.dist-1):\n",
    "                mat[i][min(j,self.dist-1)]+=1/(self.dist-i-1)\n",
    "        return mat\n",
    "    def get_transition_reward_map(self) -> RewardTransition[FrogState]:\n",
    "        d: Dict[FrogState, Categorical[Tuple[FrogState, float]]] = {}\n",
    "        for alpha in range(self.dist-1):\n",
    "            state = FrogState(alpha)\n",
    "            state_probs_map: Mapping[FrogState, float] = {\n",
    "                (FrogState(i),1):self.transition_matrix[alpha][i]\n",
    "                for i in range(self.dist)\n",
    "                }\n",
    "            d[state] = Categorical(state_probs_map)\n",
    "        d[FrogState(self.dist-1)]=None\n",
    "        return d"
   ]
  },
  {
   "cell_type": "markdown",
   "metadata": {},
   "source": [
    "We test out with the distance of 10 and we run 10000 simulation and get the mean."
   ]
  },
  {
   "cell_type": "code",
   "execution_count": 91,
   "metadata": {},
   "outputs": [],
   "source": [
    "frog_mrp=FrogReward(10)\n",
    "rewards=[]\n",
    "for i in frog_mrp.reward_traces(Constant(FrogState(0))):\n",
    "    reward=0\n",
    "    for j in i:\n",
    "        reward+=j.reward\n",
    "    rewards.append(reward)\n",
    "    if(len(rewards)>=10000):\n",
    "        break"
   ]
  },
  {
   "cell_type": "code",
   "execution_count": 92,
   "metadata": {},
   "outputs": [
    {
     "data": {
      "text/plain": [
       "3.7216"
      ]
     },
     "execution_count": 92,
     "metadata": {},
     "output_type": "execute_result"
    }
   ],
   "source": [
    "np.mean(rewards)"
   ]
  },
  {
   "cell_type": "markdown",
   "metadata": {},
   "source": [
    "### Extend the Stock price example from Chapter 1 to be markov reward with custom reward function"
   ]
  },
  {
   "cell_type": "markdown",
   "metadata": {},
   "source": [
    "We need to model the stock price with the MarkovRewardProcess class and we need to leave the reward function as an input for the model."
   ]
  },
  {
   "cell_type": "code",
   "execution_count": 132,
   "metadata": {},
   "outputs": [],
   "source": [
    "from rl.markov_process import MarkovRewardProcess\n",
    "from rl.distribution import SampledDistribution\n",
    "from typing import Tuple, Dict\n",
    "from rl.gen_utils.common_funcs import get_logistic_func\n",
    "@dataclass(frozen=True)\n",
    "class StockState:\n",
    "    price: int\n",
    "class StockMRP1(MarkovRewardProcess[StockState]):\n",
    "    def __init__(\n",
    "        self,\n",
    "        rewardf,\n",
    "        level_param: int,\n",
    "        alpha1: float\n",
    "    ):\n",
    "        self.level_param=level_param  # level to which price mean-reverts\n",
    "        self.alpha1= alpha1  # strength of mean-reversion (non-negative value)\n",
    "        self.rewardf=rewardf\n",
    "    def up_prob(self, state: StockState) -> float:\n",
    "        return get_logistic_func(self.alpha1)(self.level_param - state.price)\n",
    "    def transition_reward(\n",
    "        self,\n",
    "        state: StockState\n",
    "    ) -> SampledDistribution[Tuple[StockState, float]]:\n",
    "\n",
    "        def sample_next_state_reward(state=state) ->\\\n",
    "                Tuple[StockState, float]:\n",
    "            next_state=StockState(state.price+np.random.choice([-1,1],1,p=[1-self.up_prob(state),self.up_prob(state)])[0])\n",
    "            reward: float =self.rewardf(state)\n",
    "            return next_state, reward\n",
    "\n",
    "        return SampledDistribution(sample_next_state_reward)"
   ]
  },
  {
   "cell_type": "code",
   "execution_count": 135,
   "metadata": {},
   "outputs": [],
   "source": [
    "def f(state:StockState):\n",
    "    return state.price-10\n",
    "stock_mrp=StockMRP1(f,10,0.25)\n",
    "gamma=0.5"
   ]
  },
  {
   "cell_type": "code",
   "execution_count": 138,
   "metadata": {},
   "outputs": [],
   "source": [
    "rewards=[]\n",
    "for i in stock_mrp.reward_traces(Constant(StockState(10))):\n",
    "    trace=[0]\n",
    "    reward=0\n",
    "    count=0\n",
    "    for j in i:\n",
    "        reward+=j.reward*gamma\n",
    "        trace.append(reward)\n",
    "        count+=1\n",
    "        if(count>=20):\n",
    "            break\n",
    "    rewards.append(trace)\n",
    "    if(len(rewards)>=30):\n",
    "        break"
   ]
  },
  {
   "cell_type": "code",
   "execution_count": 139,
   "metadata": {},
   "outputs": [
    {
     "data": {
      "image/png": "[encoded data removed]",
      "text/plain": [
       "<Figure size 432x288 with 1 Axes>"
      ]
     },
     "metadata": {
      "needs_background": "light"
     },
     "output_type": "display_data"
    }
   ],
   "source": [
    "for trace in rewards:\n",
    "    plt.plot(trace)"
   ]
  },
  {
   "cell_type": "code",
   "execution_count": null,
   "metadata": {},
   "outputs": [],
   "source": []
  }
 ],
 "metadata": {
  "kernelspec": {
   "display_name": "Python 3",
   "language": "python",
   "name": "python3"
  },
  "language_info": {
   "codemirror_mode": {
    "name": "ipython",
    "version": 3
   },
   "file_extension": ".py",
   "mimetype": "text/x-python",
   "name": "python",
   "nbconvert_exporter": "python",
   "pygments_lexer": "ipython3",
   "version": "3.8.0"
  }
 },
 "nbformat": 4,
 "nbformat_minor": 4
}
