{
 "cells": [
  {
   "cell_type": "markdown",
   "metadata": {},
   "source": [
    "## 1\n",
    "\n",
    "$E(U(x))=E(x)-\\alpha/2*E(x^2)=E(x)-\\alpha/2*(E(x)^2+Var(x))=\\mu-\\alpha/2*(\\mu^2+\\sigma^2)$\n",
    "\n",
    "$x_{CE}=U^{-1}(E[U(x)])$ so $x_{CE}-\\alpha x_{CE}^2/2=\\mu-\\alpha/2*(\\mu^2+\\sigma^2)$\n",
    "\n",
    "$X_{CE}=\\frac{-1\\pm\\sqrt{1+\\alpha^2(2\\mu-\\alpha(\\mu^2+\\sigma^2))}}{-\\alpha^2}$\n",
    "\n",
    "$\\pi_A=E(U(x))-X_{CE}=\\mu-\\alpha/2*(\\mu^2+\\sigma^2)-\\frac{-1\\pm\\sqrt{1+\\alpha^2(2\\mu-\\alpha(\\mu^2+\\sigma^2))}}{-\\alpha^2}$"
   ]
  },
  {
   "cell_type": "markdown",
   "metadata": {},
   "source": [
    "## 2"
   ]
  },
  {
   "cell_type": "markdown",
   "metadata": {},
   "source": [
    "$$U(W)=log(W)$$\n",
    "$$U^\\prime(W)=1/W$$\n",
    "$$U^{\\prime\\prime}(W)=-1/W^2$$\n",
    "We know that\n",
    "$$log(W_t)\\sim N(r+\\pi(\\mu-r)-\\frac{\\pi^2\\sigma^2}{2},\\pi^2\\sigma^2)$$\n",
    "$W_{CE}=r+\\pi(\\mu-r)-\\frac{\\pi^2\\sigma^2}{2}+(a/2*\\pi^2\\sigma^2)$\n",
    "we want it to be maximized\n",
    "so \n",
    "$$\\pi^*=\\frac{\\mu-r}{a\\sigma^2}$$\n",
    "Where $a=-U^{``}(\\bar{W})/U^`(\\bar{W})=\\frac{1}{r+\\pi(\\mu-r)-\\frac{\\pi^2\\sigma^2}{2}}$"
   ]
  },
  {
   "cell_type": "code",
   "execution_count": null,
   "metadata": {},
   "outputs": [],
   "source": []
  }
 ],
 "metadata": {
  "kernelspec": {
   "display_name": "Python 3",
   "language": "python",
   "name": "python3"
  },
  "language_info": {
   "codemirror_mode": {
    "name": "ipython",
    "version": 3
   },
   "file_extension": ".py",
   "mimetype": "text/x-python",
   "name": "python",
   "nbconvert_exporter": "python",
   "pygments_lexer": "ipython3",
   "version": "3.8.0"
  }
 },
 "nbformat": 4,
 "nbformat_minor": 4
}
