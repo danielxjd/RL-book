{
 "cells": [
  {
   "cell_type": "markdown",
   "metadata": {},
   "source": [
    "# 1\n",
    "\n",
    "$$V^{\\pi_D}(s)=Q^{\\pi_D}(s,\\pi_D(s)),\\forall s \\in N$$\n",
    "$$Q^{\\pi_D}(s,\\pi_D(s))=R(s,\\pi_D(s))+\\sum_{s^\\prime\\in N}{P(s,\\pi_D(s),s^\\prime)V^{\\pi_D}(s)},\\forall s \\in N$$\n",
    "$$V^{\\pi_D}(s)=R(s,\\pi_D(s))+\\sum_{s^\\prime\\in N}{P(s,\\pi_D(s),s^\\prime)V^{\\pi_D}(s^\\prime)},\\forall s \\in N$$\n",
    "$$Q^{\\pi_D}(s,\\pi_D(s))=R(s,\\pi_D(s))+\\sum_{s^\\prime\\in N}{P(s,\\pi_D(s),s^\\prime)Q^{\\pi_D}(s^\\prime,\\pi_D(s^\\prime))},\\forall s \\in N$$"
   ]
  },
  {
   "cell_type": "markdown",
   "metadata": {},
   "source": [
    "# 2\n",
    "$$V^*(s)=a(1-a)+\\gamma aV^*(s+1)+(1-a)(1+a)+\\gamma(1-a)V^*(s)$$\n",
    "Since the value function does not depend on the state $V^*(s)=V^*(s+1)$\n",
    "$$V^*(s)=a(1-a)+\\gamma aV^*(s)+(1-a)(1+a)+\\gamma(1-a)V^*(s)$$\n",
    "sub in $\\gamma=0.5$\n",
    "$$V^*(s)=2+2a-4a^2$$\n",
    "In order to maximise $V^*$, $\\frac{dV^*}{da}=2-8a=0$ so $\\pi^*(s)=a^*=1/4$ and $V^*(s)=9/4$"
   ]
  },
  {
   "cell_type": "markdown",
   "metadata": {},
   "source": [
    "# 4\n",
    "\n",
    "$$P(s,a,s`)=\\frac{1}{2\\sqrt{\\pi\\sigma^2}}e^{-\\frac{(s`-s)^2}{2\\sigma^2}}$$\n",
    "$$V(a,s)=\\int P(s,a,s`)R(s,a,s`)ds`$$\n",
    "$$V(a,s)=\\int \\frac{1}{2\\sqrt{\\pi\\sigma^2}}e^{-\\frac{(s`-s)^2}{2\\sigma^2}} e^{as`} ds`$$\n",
    "$$V(a,s)=-e^{as+\\sigma^2a^2/2}$$\n",
    "To minimize the function w.r.t a, we want\n",
    "$$\\frac{dV}{da}=0$$\n",
    "\n",
    "$$-e^{as+\\sigma^2a^2/2}(s+\\sigma^2a)=0$$\n",
    "$$\\pi^*(s)=-s/sigma^2$$\n",
    "$$V^*(s)=-e^{-frac{s^2}{2\\sigma^2}}$$"
   ]
  },
  {
   "cell_type": "code",
   "execution_count": null,
   "metadata": {},
   "outputs": [],
   "source": []
  }
 ],
 "metadata": {
  "kernelspec": {
   "display_name": "Python 3",
   "language": "python",
   "name": "python3"
  },
  "language_info": {
   "codemirror_mode": {
    "name": "ipython",
    "version": 3
   },
   "file_extension": ".py",
   "mimetype": "text/x-python",
   "name": "python",
   "nbconvert_exporter": "python",
   "pygments_lexer": "ipython3",
   "version": "3.8.0"
  }
 },
 "nbformat": 4,
 "nbformat_minor": 4
}
