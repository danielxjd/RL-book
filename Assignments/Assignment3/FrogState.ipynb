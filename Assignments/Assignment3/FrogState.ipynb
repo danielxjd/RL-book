{
 "cells": [
  {
   "cell_type": "code",
   "execution_count": null,
   "metadata": {},
   "outputs": [],
   "source": []
  },
  {
   "cell_type": "code",
   "execution_count": 19,
   "metadata": {},
   "outputs": [],
   "source": [
    "from dataclasses import dataclass\n",
    "from typing import Tuple, Dict,Mapping, Iterator\n",
    "from rl.markov_decision_process import FiniteMarkovDecisionProcess\n",
    "from rl.markov_decision_process import FinitePolicy, StateActionMapping\n",
    "from rl.markov_process import FiniteMarkovProcess, FiniteMarkovRewardProcess\n",
    "from rl.distribution import Categorical, Constant\n",
    "from scipy.stats import poisson\n",
    "from rl.dynamic_programming import value_iteration_result,value_iteration,almost_equal_vfs\n",
    "from rl.iterate import converged, iterate,converge\n",
    "import math\n",
    "\n",
    "##Define the stateclass\n",
    "@dataclass(frozen=True)\n",
    "class FrogState:\n",
    "    pos: int\n",
    "\n",
    "# 0 is A,1 is B\n",
    "FrogStateMapping = StateActionMapping[FrogState, int]\n",
    "\n",
    "\n",
    "class SimpleFrogMDP(FiniteMarkovDecisionProcess[FrogState, int]):\n",
    "\n",
    "    def __init__(\n",
    "        self,\n",
    "        n:int\n",
    "    ):\n",
    "        self.n:int=n\n",
    "        super().__init__(self.get_action_transition_reward_map())\n",
    "    def get_action_transition_reward_map(self) -> FrogStateMapping:\n",
    "        d: Dict[FrogState, Dict[int, Categorical[Tuple[FrogState,float]]]] = {}\n",
    "        d[FrogState(0)]=None\n",
    "        d[FrogState(self.n)]=None\n",
    "        for i in range(1,self.n):\n",
    "            d1:Dict[int,Categorical[Tuple[FrogState,float]]]={}\n",
    "            for action in range(2):\n",
    "                sr_probs_dict:Dict[Tuple[FrogState,float]]={}\n",
    "                if(action==0):\n",
    "                    if(i==self.n-1):\n",
    "                        sr_probs_dict[(FrogState(self.n),1.0)]=(self.n-i)/self.n\n",
    "                    else:\n",
    "                        sr_probs_dict[(FrogState(i+1),0.0)]=(self.n-i)/self.n\n",
    "                    sr_probs_dict[(FrogState(i-1),0.0)]=i/self.n\n",
    "                if(action==1):\n",
    "                        for j in range(0,self.n):\n",
    "                            if(j!=i):\n",
    "                                sr_probs_dict[(FrogState(j),0.0)]=1/self.n\n",
    "                        sr_probs_dict[(FrogState(self.n),1.0)]=1/self.n\n",
    "                d1[action]=Categorical(sr_probs_dict)\n",
    "            d[FrogState(i)]=d1\n",
    "        return d\n",
    "user_gamma=1.0\n"
   ]
  },
  {
   "cell_type": "code",
   "execution_count": 20,
   "metadata": {},
   "outputs": [],
   "source": [
    "import matplotlib.pyplot as plt\n",
    "def generatePolicy(n):\n",
    "    policies=[]\n",
    "    for i in range((pow(2,n))):\n",
    "        binary=str(bin(i))[2:]\n",
    "        policies.append(list('0'+'0'*(n-len(binary))+str(bin(i))[2:]+'1'))\n",
    "    return policies"
   ]
  },
  {
   "cell_type": "code",
   "execution_count": 21,
   "metadata": {},
   "outputs": [
    {
     "name": "stdout",
     "output_type": "stream",
     "text": [
      "['1', '0']\n",
      "['1', '0', '0', '0', '0']\n",
      "['1', '0', '0', '0', '0', '0', '0', '0']\n"
     ]
    },
    {
     "data": {
      "image/png": "[encoded data removed]",
      "text/plain": [
       "<Figure size 432x288 with 1 Axes>"
      ]
     },
     "metadata": {
      "needs_background": "light"
     },
     "output_type": "display_data"
    }
   ],
   "source": [
    "def solve(n):\n",
    "    si_mdp: FiniteMarkovDecisionProcess[FrogState, int] =SimpleFrogMDP(n=n)\n",
    "    policies=generatePolicy(n-1)\n",
    "    best=[0]*(n-1)\n",
    "    bestpolicy=0\n",
    "    for i in range(len(policies)):\n",
    "        fdp: FinitePolicy[FrogState, int] = FinitePolicy(\n",
    "            {FrogState(j):Constant(int(policies[i][j])) for j in range(0,n+1)}\n",
    "        )\n",
    "        implied_mrp: FiniteMarkovRewardProcess[FrogState] =si_mdp.apply_finite_policy(fdp)\n",
    "        current_prob=implied_mrp.get_value_function_vec(gamma=1.0)\n",
    "        better=True\n",
    "        for j in range(len(current_prob)):\n",
    "            if(current_prob[j]<best[j]):\n",
    "                better=False\n",
    "                break\n",
    "        if(better):\n",
    "            best=current_prob\n",
    "            bestpolicy=policies[i]\n",
    "    return best,bestpolicy\n",
    "for i in [3,6,9]:\n",
    "    a,b=solve(i)\n",
    "    print(b[1:-1])\n",
    "    plt.plot(a)"
   ]
  },
  {
   "cell_type": "markdown",
   "metadata": {},
   "source": [
    "From observing the optimal policy, I can see that the frog will choose A if it is close to starting point and will choose B when it is close to the escape point."
   ]
  },
  {
   "cell_type": "code",
   "execution_count": null,
   "metadata": {},
   "outputs": [],
   "source": []
  },
  {
   "cell_type": "code",
   "execution_count": null,
   "metadata": {},
   "outputs": [],
   "source": []
  },
  {
   "cell_type": "code",
   "execution_count": null,
   "metadata": {},
   "outputs": [],
   "source": []
  }
 ],
 "metadata": {
  "kernelspec": {
   "display_name": "Python 3",
   "language": "python",
   "name": "python3"
  },
  "language_info": {
   "codemirror_mode": {
    "name": "ipython",
    "version": 3
   },
   "file_extension": ".py",
   "mimetype": "text/x-python",
   "name": "python",
   "nbconvert_exporter": "python",
   "pygments_lexer": "ipython3",
   "version": "3.8.0"
  }
 },
 "nbformat": 4,
 "nbformat_minor": 4
}
