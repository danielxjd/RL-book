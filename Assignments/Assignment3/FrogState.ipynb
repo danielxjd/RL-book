{
 "cells": [
  {
   "cell_type": "code",
   "execution_count": 26,
   "metadata": {},
   "outputs": [],
   "source": [
    "from dataclasses import dataclass\n",
    "from typing import Tuple, Dict,Mapping, Iterator\n",
    "from rl.markov_decision_process import FiniteMarkovDecisionProcess\n",
    "from rl.markov_decision_process import FinitePolicy, StateActionMapping\n",
    "from rl.markov_process import FiniteMarkovProcess, FiniteMarkovRewardProcess\n",
    "from rl.distribution import Categorical, Constant\n",
    "from scipy.stats import poisson\n",
    "from rl.dynamic_programming import value_iteration_result,value_iteration,almost_equal_vfs\n",
    "from rl.iterate import converged, iterate,converge\n",
    "import math\n",
    "\n",
    "##Define the stateclass\n",
    "@dataclass(frozen=True)\n",
    "class FrogState:\n",
    "    pos: int\n",
    "\n",
    "# 0 is A,1 is B\n",
    "FrogStateMapping = StateActionMapping[FrogState, int]\n",
    "\n",
    "\n",
    "class SimpleFrogMDP(FiniteMarkovDecisionProcess[FrogState, int]):\n",
    "\n",
    "    def __init__(\n",
    "        self,\n",
    "        n:int\n",
    "    ):\n",
    "        self.n:int=n\n",
    "        super().__init__(self.get_action_transition_reward_map())\n",
    "    def get_action_transition_reward_map(self) -> FrogStateMapping:\n",
    "        d: Dict[FrogState, Dict[int, Categorical[Tuple[FrogState,float]]]] = {}\n",
    "        d[FrogState(0)]=None\n",
    "        d[FrogState(self.n)]=None\n",
    "        for i in range(1,self.n):\n",
    "            d1:Dict[int,Categorical[Tuple[FrogState,float]]]={}\n",
    "            for action in range(2):\n",
    "                sr_probs_dict:Dict[Tuple[FrogState,float]]={}\n",
    "                if(action==0):\n",
    "                    if(i==self.n-1):\n",
    "                        sr_probs_dict[(FrogState(self.n+1),1.0)]=(self.n-i)/self.n\n",
    "                    else:\n",
    "                        sr_probs_dict[(FrogState(self.n+1),0.0)]=(self.n-i)/self.n\n",
    "                    sr_probs_dict[(FrogState(self.n-1),0.0)]=i/self.n\n",
    "                if(action==1):\n",
    "                        for j in range(0,self.n):\n",
    "                            if(j!=i):\n",
    "                                sr_probs_dict[(FrogState(j),0.0)]=1/self.n\n",
    "                        sr_probs_dict[(FrogState(self.n),1.0)]=1/self.n\n",
    "                d1[action]=Categorical(sr_probs_dict)\n",
    "            d[FrogState(i)]=d1\n",
    "        return d\n",
    "user_gamma=1.0\n"
   ]
  },
  {
   "cell_type": "code",
   "execution_count": 27,
   "metadata": {},
   "outputs": [],
   "source": [
    "import matplotlib.pyplot as plt"
   ]
  },
  {
   "cell_type": "code",
   "execution_count": 28,
   "metadata": {},
   "outputs": [
    {
     "data": {
      "image/png": "[encoded data removed]",
      "text/plain": [
       "<Figure size 432x288 with 1 Axes>"
      ]
     },
     "metadata": {
      "needs_background": "light"
     },
     "output_type": "display_data"
    }
   ],
   "source": [
    "for i in [3,6,9]:\n",
    "    si_mdp1: FiniteMarkovDecisionProcess[FrogState, int] =SimpleFrogMDP(n=i)\n",
    "    si_mdp1\n",
    "    opt_vf_vi, opt_policy_vi = value_iteration_result(si_mdp1, gamma=user_gamma)\n",
    "    plt.plot(list(opt_vf_vi.values()))"
   ]
  },
  {
   "cell_type": "code",
   "execution_count": 22,
   "metadata": {},
   "outputs": [
    {
     "data": {
      "text/plain": [
       "dict_values([0.6999407857834122, 0.6999407857834122, 0.6999407857834122, 0.6999407857834122, 0.6999407857834122, 0.6999407857834122, 0.6999407857834122, 0.7999164034589347, 0.9999059538913014])"
      ]
     },
     "execution_count": 22,
     "metadata": {},
     "output_type": "execute_result"
    }
   ],
   "source": []
  },
  {
   "cell_type": "code",
   "execution_count": null,
   "metadata": {},
   "outputs": [],
   "source": []
  }
 ],
 "metadata": {
  "kernelspec": {
   "display_name": "Python 3",
   "language": "python",
   "name": "python3"
  },
  "language_info": {
   "codemirror_mode": {
    "name": "ipython",
    "version": 3
   },
   "file_extension": ".py",
   "mimetype": "text/x-python",
   "name": "python",
   "nbconvert_exporter": "python",
   "pygments_lexer": "ipython3",
   "version": "3.8.0"
  }
 },
 "nbformat": 4,
 "nbformat_minor": 4
}
