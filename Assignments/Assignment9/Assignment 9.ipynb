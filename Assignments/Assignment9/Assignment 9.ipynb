{
 "cells": [
  {
   "cell_type": "markdown",
   "metadata": {},
   "source": [
    "## 1"
   ]
  },
  {
   "cell_type": "code",
   "execution_count": 6,
   "metadata": {},
   "outputs": [],
   "source": [
    "import rl.chapter9\n",
    "from rl.chapter9.order_book import OrderBook\n",
    "from rl.markov_process import MarkovProcess\n",
    "import numpy as np\n",
    "from typing import Mapping, Dict\n",
    "from rl.distribution import Categorical, Constant\n",
    "from rl.markov_process import Transition, FiniteMarkovProcess,MarkovProcess\n",
    "from dataclasses import dataclass\n",
    "@dataclass(frozen=True)\n",
    "class OBState:\n",
    "    orderbook: OrderBook\n",
    "@dataclass\n",
    "class OBMP(MarkovProcess[OBState]):\n",
    "    def __init__(\n",
    "        self\n",
    "    ):\n",
    "        super().__init__()\n",
    "    def transition(self, state: OrderBook) -> Categorical[OrderBook]:\n",
    "        ## we assume that limit order price will come as normal distribution with mean as \n",
    "        ## mid price and std of 1 dollar\n",
    "        ## it will occur as limit buy order, limit sell order, buy order, sell order with a probability of 0.25\n",
    "        limit_price=np.random.normal(state.orderbook.mid_price, 1.0)\n",
    "        order_type=random.randint(1, 4)\n",
    "        if(order_type==1):\n",
    "            state_probs_map: Mapping[OBState, float] = {OBState(state,orderbook.sell_market_order(1)):1.0}\n",
    "        if(order_type==2):\n",
    "            state_probs_map: Mapping[OBState, float] = {OBState(state,orderbook.buy_market_order(1)):1.0}\n",
    "        if(order_type==3):\n",
    "            state_probs_map: Mapping[OBState, float] = {OBState(state,orderbook.sell_limit_order(limit_price,1)):1.0}\n",
    "        if(order_type==4):\n",
    "            state_probs_map: Mapping[OBState, float] = {OBState(state,orderbook.buy_limit_order(limit_price,1)):1.0}\n",
    "        return Categorical(state_probs_map)"
   ]
  },
  {
   "cell_type": "markdown",
   "metadata": {},
   "source": [
    "## 2"
   ]
  },
  {
   "cell_type": "markdown",
   "metadata": {},
   "source": [
    "Denote the value function for policy $\\pi$ at time t:\n",
    "$$V^{\\pi}_t((P_t,R_t))=E_\\pi[\\sum_{i=0}^{T-1}{N_i(P_i-\\beta N_i-\\theta X_i)}|(t,P_t,R_t)]$$"
   ]
  },
  {
   "cell_type": "markdown",
   "metadata": {},
   "source": [
    "We want to get the optimal value funtion at time t as $$V^*_t((P_t,R_t))=\\max_{N_t}{N_t*(P_t-\\beta*N_t-\\theta X_i)+E[V^*_{t+1}((P_{t+1},R_{t+1}))]}$$"
   ]
  },
  {
   "cell_type": "markdown",
   "metadata": {},
   "source": [
    "and $$V*_{T-1}((P_{T-1},R_{T-1}))=N_{T-1}*(P_{T-1}-\\beta*N_{T-1}-\\theta X_{T-1})=R_{T-1}*(P_{T-1}-\\beta*R_{T-1}-\\theta X_{T-1})$$"
   ]
  },
  {
   "cell_type": "markdown",
   "metadata": {},
   "source": [
    "Then we can just solve from time T-1 backwards to get the general solution."
   ]
  },
  {
   "cell_type": "code",
   "execution_count": null,
   "metadata": {},
   "outputs": [],
   "source": []
  }
 ],
 "metadata": {
  "kernelspec": {
   "display_name": "Python 3",
   "language": "python",
   "name": "python3"
  },
  "language_info": {
   "codemirror_mode": {
    "name": "ipython",
    "version": 3
   },
   "file_extension": ".py",
   "mimetype": "text/x-python",
   "name": "python",
   "nbconvert_exporter": "python",
   "pygments_lexer": "ipython3",
   "version": "3.8.0"
  }
 },
 "nbformat": 4,
 "nbformat_minor": 4
}
