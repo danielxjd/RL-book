{
 "cells": [
  {
   "cell_type": "markdown",
   "metadata": {},
   "source": [
    "Code for 1 2 3"
   ]
  },
  {
   "cell_type": "code",
   "execution_count": 23,
   "metadata": {},
   "outputs": [],
   "source": [
    "import itertools\n",
    "import numpy as np\n",
    "\n",
    "from typing import Iterable, Callable, Mapping, TypeVar, List\n",
    "from rl.markov_process import TransitionStep, ReturnStep\n",
    "from rl.returns import returns\n",
    "from rl.function_approx import Tabular\n",
    "from rl.iterate import last\n",
    "from collections import defaultdict\n",
    "from rl.monte_carlo import mc_prediction\n",
    "from rl.td import td_prediction\n",
    "from rl.chapter2.simple_inventory_mrp import SimpleInventoryMRPFinite, InventoryState\n",
    "from rl.distribution import Constant"
   ]
  },
  {
   "cell_type": "code",
   "execution_count": 50,
   "metadata": {},
   "outputs": [],
   "source": [
    "S=TypeVar('S')\n",
    "def tb_mc_prediction(transitions:Iterable[Iterable[ReturnStep[S]]],\n",
    "                    gamma:float,\n",
    "                    tol:float=1e-06)->List[Mapping[S,float]]:\n",
    "    episodes=[returns(trace,gamma,tol) for trace in transitions]\n",
    "    vf:List[Mapping[S,float]]=[]\n",
    "    count:Mapping[S,int]=defaultdict(lambda:0)\n",
    "    for epi in episodes:\n",
    "        if(len(vf)==0):\n",
    "            current:Mapping[S,float]=defaultdict(lambda:0)\n",
    "        else:\n",
    "            current:Mapping[S,float]={key:val for (key,val) in vf[-1].items()}\n",
    "        for step in epi:\n",
    "            count[step.state]+=1\n",
    "            current[step.state]=current[step.state]+1.0/(count[step.state])*(step.return_-current[step.state])\n",
    "        vf.append(current)\n",
    "    return vf\n",
    "def tb_td_prediction(transitions:Iterable[TransitionStep[S]],\n",
    "                    gamma:float)->List[Mapping[S,float]]:\n",
    "    vf:Mapping[S,float]=defaultdict(lambda:0)\n",
    "    count:Mapping[S,int]=defaultdict(lambda:0)\n",
    "    vfs:List[Mapping[S,float]]=[]\n",
    "    for step in transitions:\n",
    "        count[step.state]+=1\n",
    "        vf[step.state]=vf[step.state]+1.0/(count[step.state])*(step.reward+gamma*vf[step.next_state]-vf[step.state])\n",
    "        vfs.append(vf)\n",
    "    return vfs"
   ]
  },
  {
   "cell_type": "code",
   "execution_count": 51,
   "metadata": {},
   "outputs": [
    {
     "name": "stdout",
     "output_type": "stream",
     "text": [
      "{InventoryState(on_hand=0, on_order=0): -35.48668974722294, InventoryState(on_hand=0, on_order=2): -28.325958710622196, InventoryState(on_hand=1, on_order=0): -28.79412051879173, InventoryState(on_hand=0, on_order=1): -27.827449105824858, InventoryState(on_hand=1, on_order=1): -29.221346226213964, InventoryState(on_hand=2, on_order=0): -30.146375426668925}\n",
      "{InventoryState(on_hand=0, on_order=0): -35.48668974722309, InventoryState(on_hand=0, on_order=2): -28.325958710622164, InventoryState(on_hand=1, on_order=0): -28.794120518791715, InventoryState(on_hand=0, on_order=1): -27.82744910582485, InventoryState(on_hand=1, on_order=1): -29.22134622621395, InventoryState(on_hand=2, on_order=0): -30.146375426668886}\n"
     ]
    }
   ],
   "source": [
    "user_capacity = 2\n",
    "user_poisson_lambda = 1.0\n",
    "user_holding_cost = 1.0\n",
    "user_stockout_cost = 10.0\n",
    "\n",
    "user_gamma = 0.9\n",
    "\n",
    "si_mrp = SimpleInventoryMRPFinite(\n",
    "    capacity=user_capacity,\n",
    "    poisson_lambda=user_poisson_lambda,\n",
    "    holding_cost=user_holding_cost,\n",
    "    stockout_cost=user_stockout_cost\n",
    ")\n",
    "start = InventoryState(on_hand = 0, on_order = 0)\n",
    "sample = [list(itertools.islice(si_mrp.simulate_reward(Constant(start)),1000)) \n",
    "          for _ in range(100)]\n",
    "reward = tb_mc_prediction(sample, user_gamma)[-1]\n",
    "print(reward)\n",
    "reward2=last(mc_prediction(sample,Tabular(),user_gamma)).values_map\n",
    "print(reward2)"
   ]
  },
  {
   "cell_type": "code",
   "execution_count": 52,
   "metadata": {},
   "outputs": [
    {
     "name": "stdout",
     "output_type": "stream",
     "text": [
      "defaultdict(<function tb_td_prediction.<locals>.<lambda> at 0x7ff869013550>, {InventoryState(on_hand=0, on_order=0): -24.775000173865344, InventoryState(on_hand=0, on_order=2): -17.612531898647614, InventoryState(on_hand=1, on_order=0): -18.195668598431055, InventoryState(on_hand=1, on_order=1): -18.57732451012334, InventoryState(on_hand=0, on_order=1): -17.190344188108035, InventoryState(on_hand=2, on_order=0): -19.535314370593206})\n",
      "{InventoryState(on_hand=0, on_order=0): -24.775000173865042, InventoryState(on_hand=0, on_order=2): -17.612531898647305, InventoryState(on_hand=1, on_order=0): -18.195668598430817, InventoryState(on_hand=1, on_order=1): -18.577324510122814, InventoryState(on_hand=0, on_order=1): -17.19034418810812, InventoryState(on_hand=2, on_order=0): -19.535314370593106}\n"
     ]
    }
   ],
   "source": [
    "sample2=list(itertools.islice(si_mrp.simulate_reward(Constant(start)),100000))\n",
    "reward=tb_td_prediction(sample2,user_gamma)[-1]\n",
    "print(reward)\n",
    "reward2=last(td_prediction(sample2,Tabular(),user_gamma)).values_map\n",
    "print(reward2)"
   ]
  },
  {
   "cell_type": "code",
   "execution_count": null,
   "metadata": {},
   "outputs": [],
   "source": []
  },
  {
   "cell_type": "code",
   "execution_count": null,
   "metadata": {},
   "outputs": [],
   "source": []
  }
 ],
 "metadata": {
  "kernelspec": {
   "display_name": "Python 3",
   "language": "python",
   "name": "python3"
  },
  "language_info": {
   "codemirror_mode": {
    "name": "ipython",
    "version": 3
   },
   "file_extension": ".py",
   "mimetype": "text/x-python",
   "name": "python",
   "nbconvert_exporter": "python",
   "pygments_lexer": "ipython3",
   "version": "3.8.0"
  }
 },
 "nbformat": 4,
 "nbformat_minor": 4
}
