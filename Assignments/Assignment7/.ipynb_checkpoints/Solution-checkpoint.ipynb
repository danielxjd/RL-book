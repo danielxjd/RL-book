{
 "cells": [
  {
   "cell_type": "markdown",
   "metadata": {},
   "source": [
    "## Q1\n",
    "\n",
    "From Equation 6.2), wub in with $U(C_t)=log(C_t)$\n",
    "\n",
    "The HJB equation is:\n",
    "\n",
    "$$\\max_{\\pi_t,c_t}(E_t(dV^*(t,W_t))+log(c_t)*d_t)=\\rho*V^*(t,W_t)$$\n",
    "\n",
    "With Ito's lemma on $dV*$.remove $dz_t$ terms and divide by $d_t$,we get:\n",
    "$$\\max_{\\pi_t,c_t}(\\frac{dV^*}{dt}+\\frac{dV^*}{dW_t}+\\frac{d^2V^*}{dW_t^2}*\\frac{\\pi_t^2\\sigma^2W_t^2}{2}+log(c_t))=\\rho*V^*(t,W_t)$$\n",
    "sunject to terminal condition $V^*(T,W_t)=\\epsilon'log(W_T)$\n",
    "\n",
    "Using $\\Phi$ to represent the LHS to find $\\pi_t^*,c_t^*$ that maximizes $\\Phi$, we take partial derivatives.\n",
    "\n",
    "\n",
    "$$\\frac{d\\Phi}{d\\pi_t}=W_t(\\mu-r)\\frac{dV^*}{dW_t}+\\frac{d^2V^*}{dW_t^2}\\pi_t\\sigma^2W_t^2=0$$\n",
    "\n",
    "we get:\n",
    "\n",
    "$$\\pi_t^*=\\frac{-\\frac{dV^*}{dW_t}(\\mu-r)}{\\frac{d^2V^2}{dW_t^2}\\sigma^2W_t}$$\n",
    "\n",
    "and\n",
    "\n",
    "$$\\frac{d\\Phi}{dc_t}=-\\frac{dV^*}{dW_t}+\\frac{1}{c_t}=0$$\n",
    "\n",
    "so we get:\n",
    "\n",
    "$$c_t^*=1/(\\frac{dV^*}{dW_t})$$\n",
    "\n",
    "Then we sub in the two expression back and solve the PDE for the final expression."
   ]
  },
  {
   "cell_type": "markdown",
   "metadata": {},
   "source": [
    "## Q3\n",
    "State: (employment status,skill level,money) employment status is 1(employed) or 0 (unemployed)\n",
    "\n",
    "Action state: ($\\alpha_t$,$c_t$) where $\\alpha$ is the amount of time spent on learning and $c_t$ is the consumption on that day.\n",
    "\n",
    "Reward: $U(c_t)$ where U is the utility function\n",
    "\n",
    "Transition map:\n",
    "\n",
    "if employed: with action ($\\alpha_t$,$c_t$), money+=f(skill level)-c_t skill level+=g(\\alpha*T). p(employment =0)=p \n",
    "\n",
    "if unemployed: money+=-c_t, skill level=k(skill level,$\\lambda$), p(employemnt=1)=h(skill level)"
   ]
  },
  {
   "cell_type": "code",
   "execution_count": null,
   "metadata": {},
   "outputs": [],
   "source": []
  }
 ],
 "metadata": {
  "kernelspec": {
   "display_name": "Python 3",
   "language": "python",
   "name": "python3"
  },
  "language_info": {
   "codemirror_mode": {
    "name": "ipython",
    "version": 3
   },
   "file_extension": ".py",
   "mimetype": "text/x-python",
   "name": "python",
   "nbconvert_exporter": "python",
   "pygments_lexer": "ipython3",
   "version": "3.8.0"
  }
 },
 "nbformat": 4,
 "nbformat_minor": 4
}
