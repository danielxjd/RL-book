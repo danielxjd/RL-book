{
 "cells": [
  {
   "cell_type": "markdown",
   "metadata": {},
   "source": [
    "# 1\n",
    "\n",
    "## a\n",
    "\n",
    "At iteration 0:\n",
    "\n",
    "$v(s1)=10$ $v(s2)=1$ $v(s3)=0$\n",
    "\n",
    "At iteration 1:\n",
    "\n",
    "$q_1(s1,a1)=8+0.2*10+0.6*1=10.6$  $q_1(s1,a2)=10+0.1*10+0.2*1=11.2$  $v_1(s1)=11.2$ $\\pi_1(s1)=a1$\n",
    "\n",
    "$q_1(s2,a1)=1+0.3*10+0.3*1=4.3$  $q_1(s2,a2)=-1+0.5*10+0.3*1=4.3$  $v_1(s1)=4.3$ $\\pi_1(s2)=(a1,a2)$\n",
    "\n",
    "At iteration 2:\n",
    "\n",
    "$q_2(s1,a1)=8+0.2*11.2+0.6*4.3=12.82$  $q_2(s1,a2)=10+0.1*11.2+0.2*4.3=11.98$  $v_2(s1)=11.98$ $\\pi_2(s1)=a1$\n",
    "\n",
    "$q_2(s2,a1)=1+0.3*11.2+0.3*4.3=5.65$  $q_2(s2,a2)=-1+0.5*11.2+0.3*4.3=5.89$  $v_2(s1)=5.89$ $\\pi_2(s2)=a2$"
   ]
  },
  {
   "cell_type": "markdown",
   "metadata": {},
   "source": [
    "## b"
   ]
  },
  {
   "cell_type": "markdown",
   "metadata": {},
   "source": [
    "Since q increases with the number of iteration, and with higher q, the v will be higher and with higher v, for state1 policy a1 will keep having a larger value than a2 and for state 2, policy a2 will keep haivng a larger value than a1, so the policy will not change anymore after iteration 2."
   ]
  },
  {
   "cell_type": "code",
   "execution_count": null,
   "metadata": {},
   "outputs": [],
   "source": []
  }
 ],
 "metadata": {
  "kernelspec": {
   "display_name": "Python 3",
   "language": "python",
   "name": "python3"
  },
  "language_info": {
   "codemirror_mode": {
    "name": "ipython",
    "version": 3
   },
   "file_extension": ".py",
   "mimetype": "text/x-python",
   "name": "python",
   "nbconvert_exporter": "python",
   "pygments_lexer": "ipython3",
   "version": "3.8.0"
  }
 },
 "nbformat": 4,
 "nbformat_minor": 4
}
