{
 "cells": [
  {
   "cell_type": "markdown",
   "metadata": {},
   "source": [
    "### Pseudo code for GLIE MC"
   ]
  },
  {
   "cell_type": "markdown",
   "metadata": {},
   "source": [
    "    at kth episode with $\\pi$:{$S_1,A_1,R_2...S_T$}~$\\pi$\n",
    "\n",
    "    for each state $S_t$ and action $A_t$,\n",
    "    \n",
    "    $N(s_t,A_t)=N(S_t,A_t)+1$\n",
    "    \n",
    "    $Q(S_t,A_t)=Q(S_t,A_t)+\\frac{1}{N(s_t,A_t)}(G_t-Q(S_t,A_t))$\n",
    "\n",
    "    And we imporve policy:\n",
    "    \n",
    "    $\\epsilon=1/k$\n",
    "    \n",
    "    $\\pi=\\epsilon-greedy(Q)$\n",
    "\n",
    "    where greedy(Q) works in this way:\n",
    "\n",
    "        $\\pi(a|s)=\\epsilon/|A|+1-\\epsilon$ if $a^*=arg\\max_{a\\in A} Q(s,a)$ and $\\pi(a|s)=\\epsilon/m$ otherwise"
   ]
  },
  {
   "cell_type": "markdown",
   "metadata": {},
   "source": [
    "### Pseudo code for Sarsa"
   ]
  },
  {
   "cell_type": "markdown",
   "metadata": {},
   "source": [
    "    Initialize $Q(s,a),\\forall s\\in S,a\\in A(s)$, aribitrarily and $Q(terminalstate,.)=0$\n",
    "\n",
    "    for each episode:\n",
    "\n",
    "        Initialize S\n",
    "    \n",
    "        Choose A from S using $\\epsilon-greedy$\n",
    "        \n",
    "        For each step of episode:\n",
    "        \n",
    "            Take action A, observe R, S'\n",
    "            \n",
    "            Choose A' from S' using $\\epsilon-greedy$\n",
    "            \n",
    "            $Q(S,A)=Q(S,A)+\\alpha[R+\\gamma Q(s',A')-Q(S,A)]$\n",
    "            \n",
    "            $S=S';A=A'$\n",
    "            \n",
    "            until S is termnial"
   ]
  },
  {
   "cell_type": "code",
   "execution_count": null,
   "metadata": {},
   "outputs": [],
   "source": []
  }
 ],
 "metadata": {
  "kernelspec": {
   "display_name": "Python 3",
   "language": "python",
   "name": "python3"
  },
  "language_info": {
   "codemirror_mode": {
    "name": "ipython",
    "version": 3
   },
   "file_extension": ".py",
   "mimetype": "text/x-python",
   "name": "python",
   "nbconvert_exporter": "python",
   "pygments_lexer": "ipython3",
   "version": "3.8.0"
  }
 },
 "nbformat": 4,
 "nbformat_minor": 4
}
